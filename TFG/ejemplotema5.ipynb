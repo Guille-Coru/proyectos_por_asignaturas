{
 "cells": [
  {
   "cell_type": "markdown",
   "id": "c235e1",
   "metadata": {
    "collapsed": false
   },
   "source": [
    "# Explicación\n",
    "Esta libreta está creada Libreta generada a partir de un archivo .sagews de 2022 donde se ilustra con un ejemplo los resultados teóricos expuestos en mi tfg: resolviendo ecuaciones algebraicas con autovalores y autovectores. "
   ]
  },
  {
   "cell_type": "code",
   "execution_count": 1,
   "id": "d473a0",
   "metadata": {
    "collapsed": false
   },
   "outputs": [
    {
     "data": {
      "text/plain": [
       "Multivariate Polynomial Ring in x, y, z over Rational Field"
      ]
     },
     "execution_count": 1,
     "metadata": {
     },
     "output_type": "execute_result"
    }
   ],
   "source": [
    "p.<x,y,z>=PolynomialRing(QQ,order=\"lex\");p"
   ]
  },
  {
   "cell_type": "markdown",
   "id": "e5679b",
   "metadata": {
    "collapsed": false
   },
   "source": [
    "## Declaración de polinomios y el ideal generado por ellos\n",
    "Se crean $ 3 $ polinomios $f_1, \\ f_2, \\ f_3 \\in \\mathbb{C}\\left[x,y,z\\right]$  y el ideal que generan"
   ]
  },
  {
   "cell_type": "code",
   "execution_count": 2,
   "id": "840ac1",
   "metadata": {
    "collapsed": false
   },
   "outputs": [
   ],
   "source": [
    "f1=x-y^2-z^2"
   ]
  },
  {
   "cell_type": "code",
   "execution_count": 3,
   "id": "8f0b27",
   "metadata": {
    "collapsed": false
   },
   "outputs": [
   ],
   "source": [
    "f2=y^2-z"
   ]
  },
  {
   "cell_type": "code",
   "execution_count": 4,
   "id": "cb65c7",
   "metadata": {
    "collapsed": false
   },
   "outputs": [
   ],
   "source": [
    "f3=z^2-1"
   ]
  },
  {
   "cell_type": "code",
   "execution_count": 5,
   "id": "e6b84a",
   "metadata": {
    "collapsed": false
   },
   "outputs": [
   ],
   "source": [
    "J=Ideal(f1,f2,f3)"
   ]
  },
  {
   "cell_type": "markdown",
   "id": "151c9b",
   "metadata": {
    "collapsed": false
   },
   "source": [
    "## Se miran las bases de grobner y normal del ideal\n",
    "Notar que la base normal tiene  $4$ polinomios"
   ]
  },
  {
   "cell_type": "code",
   "execution_count": 6,
   "id": "66434b",
   "metadata": {
    "collapsed": false
   },
   "outputs": [
    {
     "data": {
      "text/plain": [
       "[x - z - 1, y^2 - z, z^2 - 1]"
      ]
     },
     "execution_count": 6,
     "metadata": {
     },
     "output_type": "execute_result"
    }
   ],
   "source": [
    "Jg=J.groebner_basis();Jg"
   ]
  },
  {
   "cell_type": "code",
   "execution_count": 7,
   "id": "cf2543",
   "metadata": {
    "collapsed": false
   },
   "outputs": [
    {
     "data": {
      "text/plain": [
       "[y*z, z, y, 1]"
      ]
     },
     "execution_count": 7,
     "metadata": {
     },
     "output_type": "execute_result"
    }
   ],
   "source": [
    "Ja=J.normal_basis();Ja"
   ]
  },
  {
   "cell_type": "markdown",
   "id": "84dbbd",
   "metadata": {
    "collapsed": false
   },
   "source": [
    "### J_n\n",
    "Por unas cuestiones de sintaxis se crea J_n para usar en lugar de J_a"
   ]
  },
  {
   "cell_type": "code",
   "execution_count": 8,
   "id": "ee39d7",
   "metadata": {
    "collapsed": false
   },
   "outputs": [
    {
     "data": {
      "text/plain": [
       "[1, z, y, y*z]"
      ]
     },
     "execution_count": 8,
     "metadata": {
     },
     "output_type": "execute_result"
    }
   ],
   "source": [
    "Jn=[1,z,y,y*z];Jn"
   ]
  },
  {
   "cell_type": "markdown",
   "id": "014607",
   "metadata": {
    "collapsed": false
   },
   "source": [
    "Se lleva a cabo la parte mecánica. Para más información mirar [1]"
   ]
  },
  {
   "cell_type": "code",
   "execution_count": 9,
   "id": "a3a18f",
   "metadata": {
    "collapsed": false
   },
   "outputs": [
   ],
   "source": [
    "f=x+y+z"
   ]
  },
  {
   "cell_type": "code",
   "execution_count": 10,
   "id": "a6faab",
   "metadata": {
    "collapsed": false
   },
   "outputs": [
   ],
   "source": [
    "fp=y"
   ]
  },
  {
   "cell_type": "code",
   "execution_count": 11,
   "id": "c00cfa",
   "metadata": {
    "collapsed": false
   },
   "outputs": [
    {
     "data": {
      "text/plain": [
       "[y + 2*z + 1, y*z + z + 2, 2*y*z + y + z, y*z + 2*y + 1]"
      ]
     },
     "execution_count": 11,
     "metadata": {
     },
     "output_type": "execute_result"
    }
   ],
   "source": [
    "Mint=[(f*j).reduce(Jg)for j in Jn];Mint"
   ]
  },
  {
   "cell_type": "code",
   "execution_count": 12,
   "id": "3480de",
   "metadata": {
    "collapsed": false
   },
   "outputs": [
    {
     "data": {
      "text/plain": [
       "[y, y*z, z, 1]"
      ]
     },
     "execution_count": 12,
     "metadata": {
     },
     "output_type": "execute_result"
    }
   ],
   "source": [
    "Mintp=[(fp*j).reduce(Jg)for j in Jn];Mintp"
   ]
  },
  {
   "cell_type": "code",
   "execution_count": 13,
   "id": "4cede5",
   "metadata": {
    "collapsed": false
   },
   "outputs": [
    {
     "data": {
      "text/html": "<html>\\(\\displaystyle \\left(\\begin{array}{rrrr}\n0 & 0 & 0 & 1 \\\\\n0 & 0 & 1 & 0 \\\\\n1 & 0 & 0 & 0 \\\\\n0 & 1 & 0 & 0\n\\end{array}\\right)\\)</html>",
      "text/latex": [
       "$\\displaystyle \\left(\\begin{array}{rrrr}\n",
       "0 & 0 & 0 & 1 \\\\\n",
       "0 & 0 & 1 & 0 \\\\\n",
       "1 & 0 & 0 & 0 \\\\\n",
       "0 & 1 & 0 & 0\n",
       "\\end{array}\\right)$"
      ],
      "text/plain": [
       "[0 0 0 1]\n",
       "[0 0 1 0]\n",
       "[1 0 0 0]\n",
       "[0 1 0 0]"
      ]
     },
     "execution_count": 13,
     "metadata": {
     },
     "output_type": "execute_result"
    }
   ],
   "source": [
    "Mfp=matrix(QQ,[[0,0,0,1],[0,0,1,0],[1,0,0,0],[0,1,0,0]]);show(Mfp)"
   ]
  },
  {
   "cell_type": "code",
   "execution_count": 14,
   "id": "82615f",
   "metadata": {
    "collapsed": false
   },
   "outputs": [
    {
     "data": {
      "text/plain": [
       "[(1,\n",
       "  Vector space of degree 4 and dimension 1 over Rational Field\n",
       "  User basis matrix:\n",
       "  [1 1 1 1]),\n",
       " (-1,\n",
       "  Vector space of degree 4 and dimension 1 over Rational Field\n",
       "  User basis matrix:\n",
       "  [ 1  1 -1 -1]),\n",
       " (-1*I,\n",
       "  Vector space of degree 4 and dimension 1 over Algebraic Field\n",
       "  User basis matrix:\n",
       "  [   1   -1 -1*I  1*I]),\n",
       " (1*I,\n",
       "  Vector space of degree 4 and dimension 1 over Algebraic Field\n",
       "  User basis matrix:\n",
       "  [   1   -1  1*I -1*I])]"
      ]
     },
     "execution_count": 14,
     "metadata": {
     },
     "output_type": "execute_result"
    }
   ],
   "source": [
    "Mfp.eigenspaces_left()"
   ]
  },
  {
   "cell_type": "code",
   "execution_count": 15,
   "id": "c11313",
   "metadata": {
    "collapsed": false
   },
   "outputs": [
    {
     "data": {
      "text/html": "<html>\\(\\displaystyle \\left(\\begin{array}{rrrr}\n1 & 2 & 0 & 1 \\\\\n2 & 1 & 1 & 0 \\\\\n1 & 0 & 1 & 2 \\\\\n0 & 1 & 2 & 1\n\\end{array}\\right)\\)</html>",
      "text/latex": [
       "$\\displaystyle \\left(\\begin{array}{rrrr}\n",
       "1 & 2 & 0 & 1 \\\\\n",
       "2 & 1 & 1 & 0 \\\\\n",
       "1 & 0 & 1 & 2 \\\\\n",
       "0 & 1 & 2 & 1\n",
       "\\end{array}\\right)$"
      ],
      "text/plain": [
       "[1 2 0 1]\n",
       "[2 1 1 0]\n",
       "[1 0 1 2]\n",
       "[0 1 2 1]"
      ]
     },
     "execution_count": 15,
     "metadata": {
     },
     "output_type": "execute_result"
    }
   ],
   "source": [
    "Mf=matrix(QQ,[[1,2,0,1],[2,1,1,0],[1,0,1,2],[0,1,2,1]]);show(Mf)"
   ]
  },
  {
   "cell_type": "code",
   "execution_count": 16,
   "id": "569dab",
   "metadata": {
    "collapsed": false
   },
   "outputs": [
    {
     "data": {
      "text/plain": [
       "[(4,\n",
       "  Vector space of degree 4 and dimension 1 over Rational Field\n",
       "  User basis matrix:\n",
       "  [1 1 1 1]),\n",
       " (2,\n",
       "  Vector space of degree 4 and dimension 1 over Rational Field\n",
       "  User basis matrix:\n",
       "  [ 1  1 -1 -1]),\n",
       " (-1 - 1*I,\n",
       "  Vector space of degree 4 and dimension 1 over Algebraic Field\n",
       "  User basis matrix:\n",
       "  [   1   -1 -1*I  1*I]),\n",
       " (-1 + 1*I,\n",
       "  Vector space of degree 4 and dimension 1 over Algebraic Field\n",
       "  User basis matrix:\n",
       "  [   1   -1  1*I -1*I])]"
      ]
     },
     "execution_count": 16,
     "metadata": {
     },
     "output_type": "execute_result"
    }
   ],
   "source": [
    "Mf.eigenspaces_left()"
   ]
  },
  {
   "cell_type": "markdown",
   "id": "5d64be",
   "metadata": {
    "collapsed": false
   },
   "source": [
    "# Bibliografía \n",
    "[1] Cox, D. A., Little, J., & O’shea, D. (1998). Using algebraic geometry. New York, NY: Springer New York."
   ]
  }
 ],
 "metadata": {
  "kernelspec": {
   "argv": [
    "sage-10.6",
    "--python",
    "-m",
    "sage.repl.ipython_kernel",
    "--matplotlib=inline",
    "-f",
    "{connection_file}"
   ],
   "display_name": "SageMath 10.6",
   "env": {
   },
   "language": "sagemath",
   "metadata": {
    "cocalc": {
     "description": "Open-source mathematical software system",
     "priority": 10,
     "url": "https://www.sagemath.org/"
    }
   },
   "name": "sage-10.6",
   "resource_dir": "/ext/jupyter/kernels/sage-10.6"
  },
  "language_info": {
   "codemirror_mode": {
    "name": "ipython",
    "version": 2
   },
   "file_extension": ".py",
   "mimetype": "text/x-python",
   "name": "python",
   "nbconvert_exporter": "python",
   "pygments_lexer": "ipython2",
   "version": "2.7.12+"
  }
 },
 "nbformat": 4,
 "nbformat_minor": 4
}